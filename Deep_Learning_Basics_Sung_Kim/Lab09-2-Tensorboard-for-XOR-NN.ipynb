{
 "cells": [
  {
   "cell_type": "code",
   "execution_count": null,
   "metadata": {},
   "outputs": [],
   "source": [
    "# Tensorboard: 학습을 길게 하거나 복잡하게 할 때 그래프로 보여주는 프로그램\n",
    "# 옛날 방식은 계속 print해가는 것이었다.\n",
    "# 그래프로 보여주면 훨씬 보기 편하다 "
   ]
  }
 ],
 "metadata": {
  "kernelspec": {
   "display_name": "Python [conda env:myenv] *",
   "language": "python",
   "name": "conda-env-myenv-py"
  },
  "language_info": {
   "codemirror_mode": {
    "name": "ipython",
    "version": 3
   },
   "file_extension": ".py",
   "mimetype": "text/x-python",
   "name": "python",
   "nbconvert_exporter": "python",
   "pygments_lexer": "ipython3",
   "version": "3.7.9"
  }
 },
 "nbformat": 4,
 "nbformat_minor": 4
}
